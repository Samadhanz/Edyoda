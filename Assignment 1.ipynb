{
 "cells": [
  {
   "cell_type": "code",
   "execution_count": 7,
   "id": "29aafea0",
   "metadata": {},
   "outputs": [
    {
     "name": "stdout",
     "output_type": "stream",
     "text": [
      "50\n",
      "0\n",
      "1\n",
      "1\n",
      "2\n",
      "3\n",
      "5\n",
      "8\n",
      "13\n",
      "21\n",
      "34\n",
      "55\n"
     ]
    }
   ],
   "source": [
    "#Fibonccies Series\n",
    "n=int(input())\n",
    "a=0\n",
    "b=1\n",
    "num=0\n",
    "while num <=n:\n",
    "    num=a\n",
    "    print(num)\n",
    "    a=b\n",
    "    b=num+b"
   ]
  },
  {
   "cell_type": "code",
   "execution_count": 9,
   "id": "35072639",
   "metadata": {},
   "outputs": [
    {
     "name": "stdout",
     "output_type": "stream",
     "text": [
      "Write a wordsamadhan\n",
      "Reverse of given word is nahdamas\n"
     ]
    }
   ],
   "source": [
    "#Reverse of word\n",
    "x=input(\"Write a word\")\n",
    "x\n",
    "print(\"Reverse of given word is\",x[::-1])"
   ]
  },
  {
   "cell_type": "code",
   "execution_count": 10,
   "id": "2864ee2e",
   "metadata": {},
   "outputs": [
    {
     "name": "stdout",
     "output_type": "stream",
     "text": [
      "Series of number is1245684\n",
      "total count of event numbers are 5\n",
      "total count of odd numbers are 2\n"
     ]
    }
   ],
   "source": [
    "#Count of even and odd numbers\n",
    "x=list(input(\"Series of number is\"))\n",
    "a=0\n",
    "b=0\n",
    "for i in x:\n",
    "    if (int(i)%2==0):\n",
    "        a=a+1\n",
    "    else:\n",
    "        b=b+1\n",
    "print(\"total count of event numbers are\",a)\n",
    "print(\"total count of odd numbers are\",b)"
   ]
  },
  {
   "cell_type": "code",
   "execution_count": null,
   "id": "043ff75e",
   "metadata": {},
   "outputs": [],
   "source": []
  }
 ],
 "metadata": {
  "kernelspec": {
   "display_name": "Python 3 (ipykernel)",
   "language": "python",
   "name": "python3"
  },
  "language_info": {
   "codemirror_mode": {
    "name": "ipython",
    "version": 3
   },
   "file_extension": ".py",
   "mimetype": "text/x-python",
   "name": "python",
   "nbconvert_exporter": "python",
   "pygments_lexer": "ipython3",
   "version": "3.9.12"
  }
 },
 "nbformat": 4,
 "nbformat_minor": 5
}
